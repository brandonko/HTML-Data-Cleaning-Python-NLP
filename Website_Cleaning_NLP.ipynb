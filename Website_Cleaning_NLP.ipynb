{
 "cells": [
  {
   "cell_type": "code",
   "execution_count": 26,
   "metadata": {},
   "outputs": [],
   "source": [
    "import os\n",
    "import re\n",
    "from boilerpy3 import extractors\n",
    "\n",
    "# Condenses all repeating newline characters into one single newline character\n",
    "def condense_newline(text):\n",
    "    return '\\n'.join([p for p in re.split('\\n|\\r', text) if len(p) > 0])\n",
    "\n",
    "# Returns the text from a HTML file\n",
    "def parse_html(html_path):\n",
    "    # Text extraction with boilerpy3\n",
    "    html_extractor = extractors.ArticleExtractor()\n",
    "    return condense_newline(html_extractor.get_content_from_file(html_path))\n",
    "\n",
    "# Extracts the text from all html files in a specified directory\n",
    "def html_to_text(folder):\n",
    "    parsed_texts = []\n",
    "    filepaths = os.listdir(folder)\n",
    "\n",
    "    for filepath in filepaths:\n",
    "        filepath_full = os.path.join(folder, filepath)\n",
    "        if filepath_full.endswith(\".html\"):\n",
    "            parsed_texts.append(parse_html(filepath_full))\n",
    "    return parsed_texts\n",
    "\n",
    "# Your directory to the folder with scraped websites\n",
    "scraped_dir = './scraped_pages'\n",
    "parsed_texts = html_to_text(scraped_dir)"
   ]
  },
  {
   "cell_type": "code",
   "execution_count": 23,
   "metadata": {},
   "outputs": [],
   "source": [
    "from bs4 import BeautifulSoup\n",
    "\n",
    "# Returns the text from a HTML file based on specified tags\n",
    "def parse_html(html_path):\n",
    "    with open(html_path, 'r') as fr:\n",
    "        html_content = fr.read()\n",
    "        soup = BeautifulSoup(html_content, 'html.parser')\n",
    "\n",
    "        # Check that file is valid HTML\n",
    "        if not soup.find():\n",
    "            raise ValueError(\"File is not a valid HTML file\")\n",
    "\n",
    "        # Check the language of the file\n",
    "        tag_meta_language = soup.head.find(\"meta\", attrs={\"http-equiv\": \"content-language\"})\n",
    "        if tag_meta_language:\n",
    "            document_language = tag_meta_language[\"content\"]\n",
    "            if document_language and document_language not in [\"en\", \"en-us\", \"en-US\"]:\n",
    "                raise ValueError(\"Language {} is not english\".format(document_language))\n",
    "\n",
    "        # Get text from the specified tags. Add more tags if necessary.\n",
    "        TAGS = ['p']\n",
    "        return ' '.join([condense_newline(tag.text) for tag in soup.findAll(TAGS)])"
   ]
  },
  {
   "cell_type": "code",
   "execution_count": 44,
   "metadata": {},
   "outputs": [
    {
     "name": "stdout",
     "output_type": "stream",
     "text": [
      "15-Gram Frequencies\n",
      "6\t\"( SSAI ) is committed to making it possible for low-income and other disadvantaged older\"\n",
      "6\t\"SSAI ) is committed to making it possible for low-income and other disadvantaged older adults\"\n",
      "6\t\") is committed to making it possible for low-income and other disadvantaged older adults to\"\n",
      "6\t\"is committed to making it possible for low-income and other disadvantaged older adults to participate\"\n",
      "6\t\"committed to making it possible for low-income and other disadvantaged older adults to participate fully\"\n",
      "6\t\"to making it possible for low-income and other disadvantaged older adults to participate fully in\"\n",
      "6\t\"making it possible for low-income and other disadvantaged older adults to participate fully in determining\"\n",
      "6\t\"it possible for low-income and other disadvantaged older adults to participate fully in determining their\"\n",
      "6\t\"possible for low-income and other disadvantaged older adults to participate fully in determining their own\"\n",
      "6\t\"for low-income and other disadvantaged older adults to participate fully in determining their own future\"\n"
     ]
    },
    {
     "name": "stderr",
     "output_type": "stream",
     "text": [
      "[nltk_data] Downloading package punkt to /Users/brandonko/nltk_data...\n",
      "[nltk_data]   Package punkt is already up-to-date!\n"
     ]
    },
    {
     "data": {
      "image/png": "[encoded data removed]",
      "text/plain": [
       "<Figure size 1080x360 with 1 Axes>"
      ]
     },
     "metadata": {
      "needs_background": "light"
     },
     "output_type": "display_data"
    }
   ],
   "source": [
    "import nltk\n",
    "nltk.download('punkt')\n",
    "import matplotlib.pyplot as plt\n",
    "from nltk.util import ngrams\n",
    "from nltk.tokenize import word_tokenize\n",
    "\n",
    "# Helper method for generating n-grams\n",
    "def extract_ngrams_sentences(sentences, num):\n",
    "    all_grams = []\n",
    "    for sentence in sentences:\n",
    "        n_grams = ngrams(sentence, num)\n",
    "        all_grams += [ ' '.join(grams) for grams in n_grams]\n",
    "    return all_grams\n",
    "\n",
    "# Splits text up by newline and period\n",
    "def split_by_newline_and_period(pages):\n",
    "    sentences = []\n",
    "    for page in pages:\n",
    "        sentences += re.split('\\n|\\. ', page)\n",
    "    return sentences\n",
    "\n",
    "# Break the dataset up into sentences, split by newline characters and periods\n",
    "sentences = split_by_newline_and_period(parsed_texts)\n",
    "\n",
    "# Add unwanted strings into this array\n",
    "filter_strs = []\n",
    "\n",
    "# Filter out unwanted strings\n",
    "sentences = [x for x in sentences if not any([re.search(filter_str, x, re.IGNORECASE) for filter_str in filter_strs])]\n",
    "\n",
    "# Tokenize the sentences\n",
    "tokenized_sentences = [word_tokenize(sentence) for sentence in sentences]\n",
    "\n",
    "# Adjust NGRAM_SIZE to capture unwanted phrases\n",
    "NGRAM_SIZE = 15\n",
    "ngrams_all = extract_ngrams_sentences(tokenized_sentences, NGRAM_SIZE)\n",
    "\n",
    "# Sort the n-grams by most common\n",
    "n_gram_all = nltk.FreqDist(ngrams_all).most_common()\n",
    "\n",
    "# Print out the top 10 most commmon n-grams\n",
    "print(f'{NGRAM_SIZE}-Gram Frequencies')\n",
    "for gram, count in n_gram_all[:10]:\n",
    "    print(f'{count}\\t\\\"{gram}\\\"')\n",
    "\n",
    "# Plot the distribution of n-grams\n",
    "plt.subplots(figsize=(15,5))\n",
    "\n",
    "plt.plot([count for _, count in n_gram_all[:1000]])\n",
    "plt.xlabel('n-gram')\n",
    "plt.ylabel('frequency')\n",
    "plt.title(f'{NGRAM_SIZE}-Gram Frequencies')\n",
    "plt.ylim(0,7)\n",
    "\n",
    "plt.show()"
   ]
  }
 ],
 "metadata": {
  "kernelspec": {
   "display_name": "Python 3",
   "language": "python",
   "name": "python3"
  },
  "language_info": {
   "codemirror_mode": {
    "name": "ipython",
    "version": 3
   },
   "file_extension": ".py",
   "mimetype": "text/x-python",
   "name": "python",
   "nbconvert_exporter": "python",
   "pygments_lexer": "ipython3",
   "version": "3.8.5"
  }
 },
 "nbformat": 4,
 "nbformat_minor": 4
}
